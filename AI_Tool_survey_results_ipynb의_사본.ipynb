{
  "nbformat": 4,
  "nbformat_minor": 0,
  "metadata": {
    "colab": {
      "provenance": [],
      "gpuType": "T4",
      "include_colab_link": true
    },
    "kernelspec": {
      "name": "python3",
      "display_name": "Python 3"
    },
    "language_info": {
      "name": "python"
    },
    "accelerator": "GPU"
  },
  "cells": [
    {
      "cell_type": "markdown",
      "metadata": {
        "id": "view-in-github",
        "colab_type": "text"
      },
      "source": [
        "<a href=\"https://colab.research.google.com/github/jinnyshin54/2024_Fall_AIDT/blob/main/AI_Tool_survey_results_ipynb%EC%9D%98_%EC%82%AC%EB%B3%B8.ipynb\" target=\"_parent\"><img src=\"https://colab.research.google.com/assets/colab-badge.svg\" alt=\"Open In Colab\"/></a>"
      ]
    },
    {
      "cell_type": "markdown",
      "source": [
        "##AI Tool survey results"
      ],
      "metadata": {
        "id": "5jQzxUNlFFP5"
      }
    },
    {
      "cell_type": "markdown",
      "source": [
        "###Word Cloud"
      ],
      "metadata": {
        "id": "Ign6UeVAHtHB"
      }
    },
    {
      "cell_type": "code",
      "source": [
        "# 필요한 라이브러리 설치\n",
        "!pip install pandas wordcloud matplotlib\n",
        "\n",
        "# 라이브러리 임포트\n",
        "import pandas as pd\n",
        "from wordcloud import WordCloud\n",
        "import matplotlib.pyplot as plt\n",
        "\n",
        "# CSV 파일 불러오기 (오류 행 무시, 구분자 추정)\n",
        "url = 'https://github.com/junkyuhufs/2024Fall_AI_AIDT/raw/main/AIToolSurvey_2024.csv'  # raw 형태의 CSV 파일 URL\n",
        "df = pd.read_csv(url, on_bad_lines='skip', sep=',')\n",
        "\n",
        "# 열 이름 확인\n",
        "print(\"열 이름:\", df.columns)\n",
        "\n",
        "# 'AIToolName' 열을 사용하여 워드 클라우드를 생성\n",
        "tool_names = df['AIToolName'].dropna().values\n",
        "\n",
        "# 단어들을 하나의 텍스트로 결합\n",
        "text = \" \".join(tool_names)\n",
        "\n",
        "# 워드 클라우드 생성\n",
        "from wordcloud import WordCloud\n",
        "import matplotlib.pyplot as plt\n",
        "\n",
        "wordcloud = WordCloud(width=800, height=400, background_color='white').generate(text)\n",
        "\n",
        "# 워드 클라우드 시각화\n",
        "plt.figure(figsize=(10, 5))\n",
        "plt.imshow(wordcloud, interpolation='bilinear')\n",
        "plt.axis('off')\n",
        "plt.show()\n"
      ],
      "metadata": {
        "id": "8pVRdiPRG_ri"
      },
      "execution_count": null,
      "outputs": []
    },
    {
      "cell_type": "markdown",
      "source": [
        "###Bar graph"
      ],
      "metadata": {
        "id": "mBX4Fx--HzTK"
      }
    },
    {
      "cell_type": "code",
      "source": [
        "# 필요한 라이브러리 임포트\n",
        "import pandas as pd\n",
        "import matplotlib.pyplot as plt\n",
        "\n",
        "# CSV 파일 불러오기\n",
        "url = 'https://github.com/junkyuhufs/2024Fall_AI_AIDT/raw/main/AIToolSurvey_2024.csv'  # raw 형태의 CSV 파일 URL\n",
        "df = pd.read_csv(url, on_bad_lines='skip', sep=',')\n",
        "\n",
        "# 'AIToolName' 열에서 각 도구의 빈도 계산\n",
        "tool_counts = df['AIToolName'].value_counts()\n",
        "\n",
        "# 막대그래프 생성\n",
        "plt.figure(figsize=(12, 8))\n",
        "tool_counts.plot(kind='bar')\n",
        "plt.title(\"Frequency of AI Tools Mentioned\")\n",
        "plt.xlabel(\"AI Tool Name\")\n",
        "plt.ylabel(\"Frequency\")\n",
        "plt.xticks(rotation=45, ha='right')\n",
        "plt.tight_layout()\n",
        "plt.show()\n"
      ],
      "metadata": {
        "id": "IzeTq_gRHlPR"
      },
      "execution_count": null,
      "outputs": []
    }
  ]
}