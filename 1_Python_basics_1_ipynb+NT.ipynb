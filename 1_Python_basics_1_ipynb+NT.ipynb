{
  "nbformat": 4,
  "nbformat_minor": 0,
  "metadata": {
    "colab": {
      "provenance": [],
      "gpuType": "T4",
      "include_colab_link": true
    },
    "kernelspec": {
      "name": "python3",
      "display_name": "Python 3"
    },
    "language_info": {
      "name": "python"
    },
    "accelerator": "GPU"
  },
  "cells": [
    {
      "cell_type": "markdown",
      "metadata": {
        "id": "view-in-github",
        "colab_type": "text"
      },
      "source": [
        "<a href=\"https://colab.research.google.com/github/jinnyshin54/Test/blob/main/1_Python_basics_1_ipynb%2BNT.ipynb\" target=\"_parent\"><img src=\"https://colab.research.google.com/assets/colab-badge.svg\" alt=\"Open In Colab\"/></a>"
      ]
    },
    {
      "cell_type": "markdown",
      "source": [
        "##Python Basics\n",
        "\n",
        "A courtesy of Drs. Hosung Nam (Korea Univ.), Miran Kim (GNU), Minjung Son (Hannam Univ.)\n",
        "\n",
        "Learning sources: W3schools.com/Python"
      ],
      "metadata": {
        "id": "iQnbwFluPgGT"
      }
    },
    {
      "cell_type": "markdown",
      "source": [
        "##Defining Variables\n",
        "\n",
        "Types of variables: Integers(정수), floating numbers(소수), and strings(문자)\n",
        "\n",
        "참고: \"#\" 쓰고 붙이는 말은 코딩이 안돼서 각주 붙일 때 씀\n",
        "\n",
        "문자열에만 ''또는 \" \"를 붙여 표기한다.(상황에 따라 문자열에 '또는 \"가 쓰인 경우 겹치지 않는 기호를 사용하는 편임 -> 이 경우 둘다 포함된 문자열은 어떻게 처리하는지 궁금)\n",
        "\n"
      ],
      "metadata": {
        "id": "YoS06yCuPnFj"
      }
    },
    {
      "cell_type": "code",
      "source": [
        "a = \"3\"\n",
        "print (a, type(a))"
      ],
      "metadata": {
        "colab": {
          "base_uri": "https://localhost:8080/"
        },
        "id": "h0tCXxVR7bXa",
        "outputId": "07208aeb-643a-43ea-b8a6-2ddae681c188"
      },
      "execution_count": null,
      "outputs": [
        {
          "output_type": "stream",
          "name": "stdout",
          "text": [
            "3 <class 'str'>\n"
          ]
        }
      ]
    },
    {
      "cell_type": "code",
      "execution_count": null,
      "metadata": {
        "id": "DrOu4v9CPeao",
        "colab": {
          "base_uri": "https://localhost:8080/"
        },
        "outputId": "da8f0011-9010-4ed8-d0ee-f645160c1ab0"
      },
      "outputs": [
        {
          "output_type": "stream",
          "name": "stdout",
          "text": [
            "<class 'int'>\n",
            "<class 'float'>\n",
            "<class 'str'>\n",
            "<class 'str'>\n",
            "Character\n"
          ]
        }
      ],
      "source": [
        "# x = 3    'Integer 3 is assigned to the variable 'x'\n",
        "# y = 3.0  'Floating number 3.0 is assigned to the variable 'y'\n",
        "# z = \"3\"  'String \"3\" is assigned to the variable 'z'\n",
        "# single or double quotes for string (both ends should match.)\n",
        "\n",
        "x = 3             # variable 'x' type: integer 'int'\n",
        "y = 3.0           # variable 'y' type: floating number 'float'\n",
        "z = \"3\"           # variable 'z' type: string 'str'\n",
        "Z = 'Character'   # variable 'Z'(capital) type: string 'str'\n",
        "\n",
        "print(type(x))\n",
        "print(type(y))\n",
        "print(type(z))\n",
        "print(type(Z))\n",
        "print(Z)"
      ]
    },
    {
      "cell_type": "code",
      "source": [
        "# The four fundamental arithmetic operation:\n",
        "\n",
        "a1 = x + y    # addition\n",
        "a2 = x - y    # substraction\n",
        "a3 = x * y    # multiplication\n",
        "a4 = x/y      # division\n",
        "\n",
        "print(a1)     # integer + floating = floating\n",
        "print(a2)\n",
        "print(a3)\n",
        "print(a4)"
      ],
      "metadata": {
        "id": "0s-Od9sod_kP",
        "colab": {
          "base_uri": "https://localhost:8080/"
        },
        "outputId": "799b0c8a-a752-4389-c27b-75338f6ea46c"
      },
      "execution_count": null,
      "outputs": [
        {
          "output_type": "stream",
          "name": "stdout",
          "text": [
            "6.0\n",
            "0.0\n",
            "9.0\n",
            "1.0\n"
          ]
        }
      ]
    },
    {
      "cell_type": "code",
      "source": [
        "# String operation with '+'\n",
        "# This will concatenate strings\n",
        "\n",
        "a2 = z + z  # 앞에서 지정한 a2, a3 function은 재지정했는데, 변수값이나 a1, a4 수식은 재지정 안 한 상태인데, 재지정한 값만 변화하고 재지정 안 한 값은 앞에 지정된 값이 그대로 이어진다고 간주하는건가?\n",
        "a3 = Z + z\n",
        "print(a2)  # string + string\n",
        "print(type(a2))   # string 33, not integer 33\n",
        "print(a3)"
      ],
      "metadata": {
        "id": "Iorx5NBNeKOI",
        "colab": {
          "base_uri": "https://localhost:8080/"
        },
        "outputId": "acec0cbf-4d07-4304-e80f-a97ebcc77382"
      },
      "execution_count": null,
      "outputs": [
        {
          "output_type": "stream",
          "name": "stdout",
          "text": [
            "33\n",
            "<class 'str'>\n",
            "Character3\n"
          ]
        }
      ]
    },
    {
      "cell_type": "markdown",
      "source": [
        "string manupulation = 문자열 데이터 입력, 수정, 삭제, 조회하는 명령어"
      ],
      "metadata": {
        "id": "LPrcuonjet8q"
      }
    },
    {
      "cell_type": "code",
      "source": [
        "text = \"I'm learning Python.\"\n",
        "print(text)"
      ],
      "metadata": {
        "id": "D5JiDsGCexha",
        "colab": {
          "base_uri": "https://localhost:8080/"
        },
        "outputId": "c636cf22-377e-40e2-ea8f-e9c9992cf740"
      },
      "execution_count": null,
      "outputs": [
        {
          "output_type": "stream",
          "name": "stdout",
          "text": [
            "I'm learning Python.\n"
          ]
        }
      ]
    },
    {
      "cell_type": "code",
      "source": [
        "x = \"I'm\"\n",
        "y = \"learning\"\n",
        "z = \"Python\"\n",
        "\n",
        "print(x, y, z)"
      ],
      "metadata": {
        "id": "tiCMU76Je126",
        "colab": {
          "base_uri": "https://localhost:8080/"
        },
        "outputId": "2f777d10-9eeb-47ef-9cef-5a2f59c1153d"
      },
      "execution_count": null,
      "outputs": [
        {
          "output_type": "stream",
          "name": "stdout",
          "text": [
            "I'm learning Python\n"
          ]
        }
      ]
    },
    {
      "cell_type": "code",
      "source": [
        "x = \"I'm\"\n",
        "y = \"learning\"\n",
        "z = \"Python\"\n",
        "\n",
        "print(x + y + z)"
      ],
      "metadata": {
        "id": "LTcBO3Vhe6bK",
        "colab": {
          "base_uri": "https://localhost:8080/"
        },
        "outputId": "485d197a-e588-40ff-e747-553335bc67d1"
      },
      "execution_count": null,
      "outputs": [
        {
          "output_type": "stream",
          "name": "stdout",
          "text": [
            "I'mlearningPython\n"
          ]
        }
      ]
    },
    {
      "cell_type": "code",
      "source": [
        "x = \"I'm\"\n",
        "y = \"learning\"\n",
        "z = \"Python\"\n",
        "\n",
        "print(x + ' ' + y + ' ' + z +'.') #space can be added"
      ],
      "metadata": {
        "id": "FOWlze9re_Vw",
        "colab": {
          "base_uri": "https://localhost:8080/"
        },
        "outputId": "a75a8cf1-cc11-49f9-ca04-ee5e2667963b"
      },
      "execution_count": null,
      "outputs": [
        {
          "output_type": "stream",
          "name": "stdout",
          "text": [
            "I'm learning Python.\n"
          ]
        }
      ]
    },
    {
      "cell_type": "markdown",
      "source": [
        "##Indexing (위치 찾기)\n",
        "첫자리는 0 (Not 1)\n",
        "\n",
        "따라서, print (a[1]) 했을 때 첫번째 문자열이 아닌 두번째 문자열이 나옴"
      ],
      "metadata": {
        "id": "hxFXHtIdSvby"
      }
    },
    {
      "cell_type": "code",
      "source": [
        "a = '123'; print(type(a)); print(a[1])"
      ],
      "metadata": {
        "id": "ZzfoM9B0TrqZ",
        "colab": {
          "base_uri": "https://localhost:8080/"
        },
        "outputId": "0f4b45dc-de27-4613-bac8-2a3819b4d9c3"
      },
      "execution_count": null,
      "outputs": [
        {
          "output_type": "stream",
          "name": "stdout",
          "text": [
            "<class 'str'>\n",
            "2\n"
          ]
        }
      ]
    },
    {
      "cell_type": "code",
      "source": [
        "a = 'hello'; print(type(a)); print(a[1])"
      ],
      "metadata": {
        "id": "y2PZcAWETq2b",
        "colab": {
          "base_uri": "https://localhost:8080/"
        },
        "outputId": "465e4817-7005-4d52-b2ec-6628b60c88f0"
      },
      "execution_count": null,
      "outputs": [
        {
          "output_type": "stream",
          "name": "stdout",
          "text": [
            "<class 'str'>\n",
            "e\n"
          ]
        }
      ]
    },
    {
      "cell_type": "markdown",
      "source": [
        "[2] Data types\n",
        "Data type is an important concept. Variables can store data of different types, and different types can do different things. Python has the following data types built-in by default:\n",
        "\n",
        "#Data Types\n",
        "\n",
        "  Text Type:\tstr(ing)\n",
        "\n",
        "  Numeric Types:\tint(eger), float(ing)\n",
        "\n",
        "  Sequence Types:\tlist, tuple, range\n",
        "\n",
        "  Mapping Type:\tdict(ionary)\n",
        "\n",
        "🔳 Commonly used types of data: (string, integer, floating numbers), list, dictionary, (tuple)\n",
        "\n",
        "📍 List data handling\n",
        "\n",
        "Accessing items in a listdata\n",
        "\n",
        "Replace items\n",
        "\n",
        "Adding items\n",
        "\n",
        "Inserting items\n",
        "\n",
        "List = 항목 값 변화 가능\n",
        "\n",
        "Tuple = 항목 값 변화 불가능\n",
        "\n",
        "set = 집합"
      ],
      "metadata": {
        "id": "5JEynz8lU0js"
      }
    },
    {
      "cell_type": "code",
      "source": [
        "# List: list [1, 2, 3, 4, 5] or [\"Python\", \"is\", \"awesome\"]\n",
        "\n",
        "listdata = [1, 2, 3, 4, 5]\n",
        "type(listdata)"
      ],
      "metadata": {
        "id": "qzeHPvgOVRMP",
        "colab": {
          "base_uri": "https://localhost:8080/"
        },
        "outputId": "4dc81593-c673-41aa-c3db-24b5134adf6f"
      },
      "execution_count": null,
      "outputs": [
        {
          "output_type": "execute_result",
          "data": {
            "text/plain": [
              "list"
            ]
          },
          "metadata": {},
          "execution_count": 12
        }
      ]
    },
    {
      "cell_type": "code",
      "source": [
        "# Accessing the data: List data\n",
        "\n",
        "print(listdata[0])  # 1st element of the list\n",
        "print(listdata[1])  # 2nd element\n",
        "print(listdata[2])  # 3rd element\n",
        "print(listdata[3])  # 4th element\n",
        "print(listdata[4])  # 5th element\n",
        "\n",
        "# Negative indexing means start from the end\n",
        "\n",
        "print(listdata[-1]) # 1st from the end\n",
        "print(listdata[-2])\n",
        "print(listdata[-3])\n",
        "print(listdata[-4])\n",
        "print(listdata[-5])\n",
        "\n",
        "print(type(listdata[0]))\n"
      ],
      "metadata": {
        "id": "7eNnPND8X5Iq",
        "colab": {
          "base_uri": "https://localhost:8080/"
        },
        "outputId": "be70a948-5d3c-4134-d906-77c8a6bb8cc9"
      },
      "execution_count": null,
      "outputs": [
        {
          "output_type": "stream",
          "name": "stdout",
          "text": [
            "1\n",
            "2\n",
            "3\n",
            "4\n",
            "5\n",
            "5\n",
            "4\n",
            "3\n",
            "2\n",
            "1\n",
            "<class 'int'>\n"
          ]
        }
      ]
    },
    {
      "cell_type": "code",
      "source": [
        "a = [1,'a', [3, '4']]; print(type(a)); print(a[0]); print(a[1]); print(a[2]); print(a[2][1])\n",
        "\n",
        " # print (a[2][1]) 은 a 리스트의 3번째 문자열을 찾은 후 해당 문자열이 또 리스트인 상황이기 때문에 그 리스트 중 두번째 문자열을 재지정한 상황임. 두번째 리스트에서 문자열을 지정하지 않은 print(a[2])의 경우 리스트 전체가 프린트 됨."
      ],
      "metadata": {
        "id": "9tpZJMkCcSFq",
        "colab": {
          "base_uri": "https://localhost:8080/"
        },
        "outputId": "f750c620-289c-4739-f947-518f7a388682"
      },
      "execution_count": null,
      "outputs": [
        {
          "output_type": "stream",
          "name": "stdout",
          "text": [
            "<class 'list'>\n",
            "1\n",
            "a\n",
            "[3, '4']\n",
            "4\n"
          ]
        }
      ]
    },
    {
      "cell_type": "markdown",
      "source": [
        "🔸 Range of Indexes\n",
        "\n",
        "You can specify a range of indexes by specifying where to start and where to end the range. When specifying a range, the return value will be a new list with the specified items."
      ],
      "metadata": {
        "id": "y964UVqtYKpX"
      }
    },
    {
      "cell_type": "code",
      "source": [
        "fruitlist = [\"apple\", \"banana\", \"cherry\", \"orange\", \"kiwi\", \"melon\", \"mango\"]\n",
        "print(fruitlist[2:5])   # From 3rd element before the 6th (exclude 6th element)\n",
        "print(fruitlist[:5])    # From the 1st element before the 6th (exclude 6th element)\n",
        "print(fruitlist[-4:-1]) # the first from the end is excluded.\n",
        "print(fruitlist[-4:])"
      ],
      "metadata": {
        "id": "LW4zjKAzYMhi",
        "colab": {
          "base_uri": "https://localhost:8080/"
        },
        "outputId": "010c9f60-a900-49bc-bdb8-8b8bdabe265a"
      },
      "execution_count": null,
      "outputs": [
        {
          "output_type": "stream",
          "name": "stdout",
          "text": [
            "['cherry', 'orange', 'kiwi']\n",
            "['apple', 'banana', 'cherry', 'orange', 'kiwi']\n",
            "['orange', 'kiwi', 'melon']\n",
            "['orange', 'kiwi', 'melon', 'mango']\n"
          ]
        }
      ]
    },
    {
      "cell_type": "code",
      "source": [
        "# Change item values:\n",
        "\n",
        "fruitlist = [\"apple\", \"banana\", \"cherry\", \"orange\"]\n",
        "fruitlist[1] = \"grapes\"\n",
        "\n",
        "print(fruitlist[1])\n",
        "print(fruitlist)"
      ],
      "metadata": {
        "id": "InCzmkKIY2Qk",
        "colab": {
          "base_uri": "https://localhost:8080/"
        },
        "outputId": "2c718c7d-84e2-426f-9881-53bcee8e0772"
      },
      "execution_count": null,
      "outputs": [
        {
          "output_type": "stream",
          "name": "stdout",
          "text": [
            "grapes\n",
            "['apple', 'grapes', 'cherry', 'orange']\n"
          ]
        }
      ]
    },
    {
      "cell_type": "code",
      "source": [
        "# Change multiple item values:\n",
        "fruitlist = [\"apple\", \"banana\", \"cherry\", \"orange\", \"kiwi\"]\n",
        "fruitlist[1:3] = [\"grapes\",\"banana\"]\n",
        "\n",
        "print(fruitlist)"
      ],
      "metadata": {
        "id": "FopjAQgbZ4XI",
        "colab": {
          "base_uri": "https://localhost:8080/"
        },
        "outputId": "b13cfa80-54c6-4397-fc57-302f7786fe51"
      },
      "execution_count": null,
      "outputs": [
        {
          "output_type": "stream",
          "name": "stdout",
          "text": [
            "['apple', 'grapes', 'banana', 'orange', 'kiwi']\n"
          ]
        }
      ]
    },
    {
      "cell_type": "code",
      "source": [
        "# Add items: append\n",
        "fruitlist = [\"apple\", \"banana\", \"cherry\", \"orange\", \"kiwi\"]\n",
        "\n",
        "fruitlist.append(\"blueberry\")\n",
        "print(fruitlist)\n",
        "\n",
        "# Length of items in a list: len()\n",
        "\n",
        "len(fruitlist)"
      ],
      "metadata": {
        "id": "_QXTOHmvZcKA",
        "colab": {
          "base_uri": "https://localhost:8080/"
        },
        "outputId": "e4a157f3-db6b-4f38-cc32-4ac6fe83a6f2"
      },
      "execution_count": null,
      "outputs": [
        {
          "output_type": "stream",
          "name": "stdout",
          "text": [
            "['apple', 'banana', 'cherry', 'orange', 'kiwi', 'blueberry']\n"
          ]
        },
        {
          "output_type": "execute_result",
          "data": {
            "text/plain": [
              "6"
            ]
          },
          "metadata": {},
          "execution_count": 18
        }
      ]
    },
    {
      "cell_type": "code",
      "source": [
        "# Add an item in a specific location: listdata.insert()\n",
        "\n",
        "fruitlist = [\"apple\", \"banana\", \"cherry\"]\n",
        "fruitlist.insert(0, \"blueberry\")\n",
        "fruitlist.insert(2, \"raspberry\")  # 앞 줄 코드에서 블루베리가 이미 추가된 상황이므로 블루베리-애플 다음에 라즈베리가 들어감\n",
        "print(fruitlist)"
      ],
      "metadata": {
        "id": "F6AgcDp0Z9Mv",
        "colab": {
          "base_uri": "https://localhost:8080/"
        },
        "outputId": "e3af2928-dc9c-4429-9d93-e282d7aaa6c7"
      },
      "execution_count": null,
      "outputs": [
        {
          "output_type": "stream",
          "name": "stdout",
          "text": [
            "['blueberry', 'apple', 'raspberry', 'banana', 'cherry']\n"
          ]
        }
      ]
    },
    {
      "cell_type": "code",
      "source": [
        "# Remove items:\n",
        "\n",
        "fruitlist = [\"apple\", \"banana\", \"cherry\"]\n",
        "\n",
        "fruitlist.remove(\"banana\")\n",
        "print(fruitlist)"
      ],
      "metadata": {
        "id": "WRerioqnaO7a",
        "colab": {
          "base_uri": "https://localhost:8080/"
        },
        "outputId": "1020d969-caa1-46ba-b11d-62b402916cb4"
      },
      "execution_count": null,
      "outputs": [
        {
          "output_type": "stream",
          "name": "stdout",
          "text": [
            "['apple', 'cherry']\n"
          ]
        }
      ]
    },
    {
      "cell_type": "code",
      "source": [
        "# item과 index 코딩의 차이?\n",
        "# (1) Remove specific items: .pop()\n",
        "\n",
        "fruitlist = [\"apple\", \"banana\", \"cherry\"]\n",
        "fruitlist.pop(2)  # Remove the 3rd item\n",
        "print(fruitlist)\n",
        "\n",
        "# (2) Remove specific index: del\n",
        "\n",
        "del fruitlist[0] # 앞 줄 코드에서 체리가 사라진 상태이므로 애플을 삭제하면 바나나만 남음\n",
        "print(fruitlist)"
      ],
      "metadata": {
        "id": "ReGZi7EXaQAv",
        "colab": {
          "base_uri": "https://localhost:8080/"
        },
        "outputId": "528c2f37-7300-4926-c6c9-87a9740fff95"
      },
      "execution_count": null,
      "outputs": [
        {
          "output_type": "stream",
          "name": "stdout",
          "text": [
            "['apple', 'banana']\n",
            "['banana']\n"
          ]
        }
      ]
    },
    {
      "cell_type": "markdown",
      "source": [
        "📍 Dict data handling\n",
        "\n",
        "```\n",
        "# 코드로 형식 지정됨\n",
        "```"
      ],
      "metadata": {
        "id": "symrl3xiczEf"
      }
    },
    {
      "cell_type": "code",
      "source": [
        "# Dictionary: dict {\"index1\": \"value1\", \"index2\": \"value2\"} , index=지정어 value=출력값 이 둘을 일대일 매치해서 dictionary\n",
        "\n",
        "dictdata = {'Noun': 'Python', 'Adj': 'awesome', 'Verb': 'is'}\n",
        "type(dictdata)"
      ],
      "metadata": {
        "id": "E4R1MR2-c0mO",
        "colab": {
          "base_uri": "https://localhost:8080/"
        },
        "outputId": "0cbfe108-3d6b-41aa-a742-67a6c3ded845"
      },
      "execution_count": null,
      "outputs": [
        {
          "output_type": "execute_result",
          "data": {
            "text/plain": [
              "dict"
            ]
          },
          "metadata": {},
          "execution_count": 22
        }
      ]
    },
    {
      "cell_type": "code",
      "source": [
        "# Accessing the data: Use index for dictionary data\n",
        "\n",
        "print(dictdata['Noun'])  # 1st element of the list\n",
        "print(dictdata['Verb'])  # 2nd element\n",
        "print(dictdata['Adj'])   # 3rd element\n",
        "\n",
        "print(dictdata['Noun'], dictdata['Verb'], dictdata['Adj'])"
      ],
      "metadata": {
        "id": "S0MB6t_6dEv2",
        "colab": {
          "base_uri": "https://localhost:8080/"
        },
        "outputId": "f5d6e704-328f-4ad7-b60d-febca2686a7d"
      },
      "execution_count": null,
      "outputs": [
        {
          "output_type": "stream",
          "name": "stdout",
          "text": [
            "Python\n",
            "is\n",
            "awesome\n",
            "Python is awesome\n"
          ]
        }
      ]
    },
    {
      "cell_type": "code",
      "source": [
        "# Dictionary data with list: 보통 일대일 매칭이 지정어-출력어 단어 한 개로 정해진 값이 아니라 출력어 단위가 리스트가 되어 그 중 하나를 출력해내는 형태\n",
        "\n",
        "dictdata1 = {'Noun': [\"book\",\"table\",\"Birds\"], 'Adj': [\"expensive\",\"good\",\"awesome\"],\"Verb\": [\"is\",\"become\",\"sing\"]} # 여기서 보면, 각 품사 지정어의 리스트에 여러 단어가 들어있음\n",
        "\n",
        "print(dictdata1['Noun']) # 이렇게 출력하면 Noun리스트의 모든 값이 출력된다\n",
        "print(dictdata1['Noun'][0])   # 1st element of the list with the index 'Noun' # 리스트 중 한 값만 출력하려면 뒤에 몇번째인지 이 형식으로 지정해준다\n",
        "print(dictdata1['Noun'][1])\n",
        "print(dictdata1['Noun'][2])"
      ],
      "metadata": {
        "id": "-eQ1PhGzdMeV",
        "colab": {
          "base_uri": "https://localhost:8080/"
        },
        "outputId": "b2a3f754-dbc2-4281-84c3-559efae00d6b"
      },
      "execution_count": null,
      "outputs": [
        {
          "output_type": "stream",
          "name": "stdout",
          "text": [
            "['book', 'table', 'Birds']\n",
            "book\n",
            "table\n",
            "Birds\n"
          ]
        }
      ]
    },
    {
      "cell_type": "code",
      "source": [
        "a = dictdata1['Noun'][2] #이러한 형태로 a,b 수식을 지정해놓고 프린트할 수 있다(For 조건문과 함께 사용하면 유용함)\n",
        "b = dictdata1['Verb'][2]\n",
        "\n",
        "print(a, b)"
      ],
      "metadata": {
        "id": "N8muFh4ndThH",
        "colab": {
          "base_uri": "https://localhost:8080/"
        },
        "outputId": "88321848-7ca2-4cef-eb11-846e7472190e"
      },
      "execution_count": null,
      "outputs": [
        {
          "output_type": "stream",
          "name": "stdout",
          "text": [
            "Birds sing\n"
          ]
        }
      ]
    }
  ]
}