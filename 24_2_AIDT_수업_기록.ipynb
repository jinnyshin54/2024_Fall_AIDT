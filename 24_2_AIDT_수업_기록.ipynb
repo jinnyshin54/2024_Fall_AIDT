{
  "nbformat": 4,
  "nbformat_minor": 0,
  "metadata": {
    "colab": {
      "provenance": [],
      "gpuType": "T4",
      "authorship_tag": "ABX9TyMcFYF/DHAKkiHLPCS5MDa7",
      "include_colab_link": true
    },
    "kernelspec": {
      "name": "python3",
      "display_name": "Python 3"
    },
    "language_info": {
      "name": "python"
    },
    "accelerator": "GPU"
  },
  "cells": [
    {
      "cell_type": "markdown",
      "metadata": {
        "id": "view-in-github",
        "colab_type": "text"
      },
      "source": [
        "<a href=\"https://colab.research.google.com/github/jinnyshin54/2024_Fall_AIDT/blob/main/24_2_AIDT_%EC%88%98%EC%97%85_%EA%B8%B0%EB%A1%9D.ipynb\" target=\"_parent\"><img src=\"https://colab.research.google.com/assets/colab-badge.svg\" alt=\"Open In Colab\"/></a>"
      ]
    },
    {
      "cell_type": "markdown",
      "source": [
        "# 24-09-11\n",
        "\n",
        "당분간 파이썬 코딩법부터 학습예정\n",
        "\n",
        "Chat GPT에서 자료를 추출하여 파이썬 코딩을 통해 앱 구동\n",
        "\n",
        "IDE(MS Word, etc) Vs. Cloud coding(Google Docs)\n",
        "\n",
        "오늘 진도 내용: 1_Python_basics_1.ipynb의 사본 파일의 주석 참고"
      ],
      "metadata": {
        "id": "EkSUzXFS2Ug9"
      }
    },
    {
      "cell_type": "markdown",
      "source": [
        "# 24-09-25\n",
        "\n",
        "Listening Comprehension Question APP creation using ChatGPT 빠르게 예습\n",
        "\n",
        "Python basics 1 진도 완료 - Dictionary Function 이해못하겠음\n",
        "\n",
        "Python basics 2 진도 시작 - Syntax까지 진행함"
      ],
      "metadata": {
        "id": "F9ZL3iSPJF3b"
      }
    },
    {
      "cell_type": "markdown",
      "source": [
        "# 24-10-02\n",
        "\n",
        "수업 진도 1: Python basics 2 진도 복습, Package 위주로 진도 진행함\n",
        "\n",
        "수업 진도 2: Import_Packages 진도 시작, 앞부분 건너뛰고 Pandas 부터 진행함, 얼추 끝냄\n",
        "\n",
        "개인 진도 1: Python basics 1 진도 완료 - Dictionary Function 이해 완료\n",
        "\n",
        "개인 진도 2: Python basics 2 진도 시작"
      ],
      "metadata": {
        "id": "u2VlUuJa-KXB"
      }
    },
    {
      "cell_type": "markdown",
      "source": [
        "#24-10-12\n",
        "\n",
        "개인 진도: Python basics 1~2 진도 완료\n",
        "\n",
        "Import packages 부터 시작하면 됨"
      ],
      "metadata": {
        "id": "EpX7Hltcq4GI"
      }
    },
    {
      "cell_type": "markdown",
      "source": [
        "#24-10-16\n",
        "\n",
        "수업 진도 1: NLP 시작, Collocation전까지 함\n",
        "\n",
        "수업 진도 2: gtts 완료, elevenlabs 사이트"
      ],
      "metadata": {
        "id": "ZRgv39nsErPj"
      }
    },
    {
      "cell_type": "markdown",
      "source": [
        "#24-10-30\n",
        "\n",
        "참고 사이트: streamlit, huggingface, gradio, COCA corpus\n",
        "\n",
        "수업 진도: NLP 복습, Word Cloud 진도, 공지사항 Open AI 남호성 교수님 자료\n",
        "\n",
        "숙제: 수업시간에 쓸만한 AI사이트 찾아오기 (노래 만드는 사이트 SUNO, 가사 만들기, 음성 변환, 영상 요약, 이미지 동영상화, AI기반 맞춤형 진로 추천, 감마-피피티 제작, 키위티-글쓰기 피드백, ReadTheory- 독해실력 향상 프로그램, talkie, gizmo 등\n",
        "\n",
        "https://www.toolify.ai/ko/Best-trending-AI-Tools"
      ],
      "metadata": {
        "id": "melRkjv4JlYG"
      }
    },
    {
      "cell_type": "markdown",
      "source": [
        "#24-11-06\n",
        "\n",
        "Github 사이트 account 만듬->google account\n",
        "\n",
        "수업 진도: Gradio_App 진도나감"
      ],
      "metadata": {
        "id": "WuSsmZRGPR6v"
      }
    }
  ]
}