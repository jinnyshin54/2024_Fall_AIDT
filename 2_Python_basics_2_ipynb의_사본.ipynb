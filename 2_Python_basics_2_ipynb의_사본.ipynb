{
  "nbformat": 4,
  "nbformat_minor": 0,
  "metadata": {
    "colab": {
      "provenance": [],
      "gpuType": "T4",
      "include_colab_link": true
    },
    "kernelspec": {
      "name": "python3",
      "display_name": "Python 3"
    },
    "language_info": {
      "name": "python"
    },
    "accelerator": "GPU"
  },
  "cells": [
    {
      "cell_type": "markdown",
      "metadata": {
        "id": "view-in-github",
        "colab_type": "text"
      },
      "source": [
        "<a href=\"https://colab.research.google.com/github/jinnyshin54/2024_Fall_AIDT/blob/main/2_Python_basics_2_ipynb%EC%9D%98_%EC%82%AC%EB%B3%B8.ipynb\" target=\"_parent\"><img src=\"https://colab.research.google.com/assets/colab-badge.svg\" alt=\"Open In Colab\"/></a>"
      ]
    },
    {
      "cell_type": "markdown",
      "source": [
        "by virtue of Dr. Hosung Nam (Korea Univ.)"
      ],
      "metadata": {
        "id": "imXBIs83iVge"
      }
    },
    {
      "cell_type": "markdown",
      "source": [
        "#String & List review"
      ],
      "metadata": {
        "id": "dqirTiaQHDu9"
      }
    },
    {
      "cell_type": "code",
      "source": [
        "s = 'abcdef'\n",
        "print(type(s))"
      ],
      "metadata": {
        "id": "jgR3p0_XIlZx",
        "colab": {
          "base_uri": "https://localhost:8080/"
        },
        "outputId": "f34ccc9f-6d94-443a-8863-320c34715090"
      },
      "execution_count": null,
      "outputs": [
        {
          "output_type": "stream",
          "name": "stdout",
          "text": [
            "<class 'str'>\n"
          ]
        }
      ]
    },
    {
      "cell_type": "code",
      "execution_count": null,
      "metadata": {
        "id": "BZG-kkwTGpWA",
        "colab": {
          "base_uri": "https://localhost:8080/"
        },
        "outputId": "e3d3553b-3c13-4a06-e79b-f1bb0d343468"
      },
      "outputs": [
        {
          "output_type": "stream",
          "name": "stdout",
          "text": [
            "a f f a\n",
            "bc bcdef abc abcdef\n"
          ]
        }
      ],
      "source": [
        "print(s[0], s[5], s[-1], s[-6])\n",
        "print(s[1:3], s[1:], s[:3], s[:]) #:쓰고 앞뒤로 위치값 지정 안하면 전체 출력"
      ]
    },
    {
      "cell_type": "code",
      "source": [
        "n = [100, 200, 300]\n",
        "print(type(n))"
      ],
      "metadata": {
        "id": "8Ih6XD4PI04f",
        "colab": {
          "base_uri": "https://localhost:8080/"
        },
        "outputId": "486f1bbe-4c6c-49b4-8f84-5bf762c7b42f"
      },
      "execution_count": null,
      "outputs": [
        {
          "output_type": "stream",
          "name": "stdout",
          "text": [
            "<class 'list'>\n"
          ]
        }
      ]
    },
    {
      "cell_type": "code",
      "source": [
        "print(n[0], n[2], n[-1], n[-3])\n",
        "print(n[1:2], n[1:], n[:2], n[:])"
      ],
      "metadata": {
        "id": "rl6SCJwAHRB4",
        "colab": {
          "base_uri": "https://localhost:8080/"
        },
        "outputId": "34e2dcae-3854-4123-dab0-0d786068bcea"
      },
      "execution_count": null,
      "outputs": [
        {
          "output_type": "stream",
          "name": "stdout",
          "text": [
            "100 300 300 100\n",
            "[200] [200, 300] [100, 200] [100, 200, 300]\n"
          ]
        }
      ]
    },
    {
      "cell_type": "code",
      "source": [
        "len(s) # Length 함수는 List, tuple, dict 의 길이 구하는 함수임"
      ],
      "metadata": {
        "id": "7OmRbwoIHeAz",
        "colab": {
          "base_uri": "https://localhost:8080/"
        },
        "outputId": "2e911861-ad2e-422c-da8f-e1d62980b63a"
      },
      "execution_count": null,
      "outputs": [
        {
          "output_type": "execute_result",
          "data": {
            "text/plain": [
              "6"
            ]
          },
          "metadata": {},
          "execution_count": 5
        }
      ]
    },
    {
      "cell_type": "code",
      "source": [
        "s[1]+s[3]+s[4:]*10"
      ],
      "metadata": {
        "id": "GelaSzRoHlMA",
        "colab": {
          "base_uri": "https://localhost:8080/",
          "height": 35
        },
        "outputId": "cce45c15-a7d2-488a-b8c4-a97727118003"
      },
      "execution_count": null,
      "outputs": [
        {
          "output_type": "execute_result",
          "data": {
            "text/plain": [
              "'bdefefefefefefefefefef'"
            ],
            "application/vnd.google.colaboratory.intrinsic+json": {
              "type": "string"
            }
          },
          "metadata": {},
          "execution_count": 6
        }
      ]
    },
    {
      "cell_type": "code",
      "source": [
        "s.upper() #Capitalize the string"
      ],
      "metadata": {
        "id": "sU0WRlAnHnzD",
        "colab": {
          "base_uri": "https://localhost:8080/",
          "height": 35
        },
        "outputId": "2eb31bfe-4e27-49eb-b161-8a709cc73ebc"
      },
      "execution_count": null,
      "outputs": [
        {
          "output_type": "execute_result",
          "data": {
            "text/plain": [
              "'ABCDEF'"
            ],
            "application/vnd.google.colaboratory.intrinsic+json": {
              "type": "string"
            }
          },
          "metadata": {},
          "execution_count": 7
        }
      ]
    },
    {
      "cell_type": "code",
      "source": [
        "k = ' this is a house built this year.\\n'\n",
        "k"
      ],
      "metadata": {
        "id": "nPM4U2BrHx5c",
        "colab": {
          "base_uri": "https://localhost:8080/",
          "height": 35
        },
        "outputId": "66e7f43a-deb4-4f1c-cc53-341f5dcf983c"
      },
      "execution_count": null,
      "outputs": [
        {
          "output_type": "execute_result",
          "data": {
            "text/plain": [
              "' this is a house built this year.\\n'"
            ],
            "application/vnd.google.colaboratory.intrinsic+json": {
              "type": "string"
            }
          },
          "metadata": {},
          "execution_count": 8
        }
      ]
    },
    {
      "cell_type": "code",
      "source": [
        "result = k.find('house') \t    # index of first instance of string; return index\n",
        "result"
      ],
      "metadata": {
        "id": "g8H5FjaIIBP2",
        "colab": {
          "base_uri": "https://localhost:8080/"
        },
        "outputId": "2b243d12-dd8b-445e-f559-12fee12b5ce9"
      },
      "execution_count": null,
      "outputs": [
        {
          "output_type": "execute_result",
          "data": {
            "text/plain": [
              "11"
            ]
          },
          "metadata": {},
          "execution_count": 9
        }
      ]
    },
    {
      "cell_type": "code",
      "source": [
        "result = k.find('this')\t      # index of first instance of string; return index\n",
        "result"
      ],
      "metadata": {
        "id": "g5Zcx120ILwi",
        "colab": {
          "base_uri": "https://localhost:8080/"
        },
        "outputId": "12bc2028-bf24-419d-c4c9-1d4f0c0d909b"
      },
      "execution_count": null,
      "outputs": [
        {
          "output_type": "execute_result",
          "data": {
            "text/plain": [
              "1"
            ]
          },
          "metadata": {},
          "execution_count": 10
        }
      ]
    },
    {
      "cell_type": "code",
      "source": [
        "j = k.strip()      \t          # a copy of s without leading or trailing whitespace\n",
        "j"
      ],
      "metadata": {
        "id": "cx-PZI5yJOIg",
        "colab": {
          "base_uri": "https://localhost:8080/",
          "height": 35
        },
        "outputId": "118f2442-5e7b-44d7-ad3f-f74d8e0a41ac"
      },
      "execution_count": null,
      "outputs": [
        {
          "output_type": "execute_result",
          "data": {
            "text/plain": [
              "'this is a house built this year.'"
            ],
            "application/vnd.google.colaboratory.intrinsic+json": {
              "type": "string"
            }
          },
          "metadata": {},
          "execution_count": 11
        }
      ]
    },
    {
      "cell_type": "code",
      "source": [
        "tokens = j.split(' ')\t        # split s into a list  (whitespace by default)\n",
        "tokens"
      ],
      "metadata": {
        "id": "BU-o2-XTJZhp",
        "colab": {
          "base_uri": "https://localhost:8080/"
        },
        "outputId": "a57bf9d7-00ec-485f-86e5-c99b1a3bad01"
      },
      "execution_count": null,
      "outputs": [
        {
          "output_type": "execute_result",
          "data": {
            "text/plain": [
              "['this', 'is', 'a', 'house', 'built', 'this', 'year.']"
            ]
          },
          "metadata": {},
          "execution_count": 12
        }
      ]
    },
    {
      "cell_type": "code",
      "source": [
        "m = ' '.join(tokens)\t        # combine the words of the text into a string using m as the glue\n",
        "m"
      ],
      "metadata": {
        "id": "ZBN79l-DJhBH",
        "colab": {
          "base_uri": "https://localhost:8080/",
          "height": 35
        },
        "outputId": "8b06e98f-4c80-4c59-a28b-000d98f03ab0"
      },
      "execution_count": null,
      "outputs": [
        {
          "output_type": "execute_result",
          "data": {
            "text/plain": [
              "'this is a house built this year.'"
            ],
            "application/vnd.google.colaboratory.intrinsic+json": {
              "type": "string"
            }
          },
          "metadata": {},
          "execution_count": 13
        }
      ]
    },
    {
      "cell_type": "code",
      "source": [
        "v = m.replace('this', 'that') # replace instances of t with u inside m\n",
        "v"
      ],
      "metadata": {
        "id": "y4NRMZg4Jvkn",
        "colab": {
          "base_uri": "https://localhost:8080/",
          "height": 35
        },
        "outputId": "ca87de78-4cdf-4cb8-a8ba-461794658417"
      },
      "execution_count": null,
      "outputs": [
        {
          "output_type": "execute_result",
          "data": {
            "text/plain": [
              "'that is a house built that year.'"
            ],
            "application/vnd.google.colaboratory.intrinsic+json": {
              "type": "string"
            }
          },
          "metadata": {},
          "execution_count": 14
        }
      ]
    },
    {
      "cell_type": "markdown",
      "source": [
        "#Function\n",
        "\n",
        "def 함수명 (입력변수1 ... 입력변수 n) : def=define\n",
        "\n",
        "return 출력변수"
      ],
      "metadata": {
        "id": "8phI9ckGKPVw"
      }
    },
    {
      "cell_type": "code",
      "source": [
        "def add(a,b):\n",
        "  return a+b\n",
        "\n",
        "def subtract(a,b):\n",
        "  return a-b\n",
        "\n",
        "def multiply(a,b):\n",
        "  return a*b\n",
        "\n",
        "def divide(a,b):\n",
        "  return a/b"
      ],
      "metadata": {
        "id": "bxRmnCcmKeG9"
      },
      "execution_count": null,
      "outputs": []
    },
    {
      "cell_type": "code",
      "source": [
        "c = add(1,2); print(c)\n",
        "c = subtract(1,2); print(c)\n",
        "c = multiply(1,2); print(c)\n",
        "c = divide(1,2); print(c)"
      ],
      "metadata": {
        "id": "tIYNELg9Kl4n",
        "colab": {
          "base_uri": "https://localhost:8080/"
        },
        "outputId": "8e3c999f-5c62-4561-cdc5-ca719ba1c677"
      },
      "execution_count": null,
      "outputs": [
        {
          "output_type": "stream",
          "name": "stdout",
          "text": [
            "3\n",
            "-1\n",
            "2\n",
            "0.5\n"
          ]
        }
      ]
    },
    {
      "cell_type": "markdown",
      "source": [
        "#Syntax"
      ],
      "metadata": {
        "id": "qPUzlJLiNHjC"
      }
    },
    {
      "cell_type": "markdown",
      "source": [
        "##for 반복문\n",
        "\n",
        "**for** i **in** a:  >>> list a에 있는 것을 i로 처음부터 하나하나씩 받아서 실행"
      ],
      "metadata": {
        "id": "LJzzIpRYNSrf"
      }
    },
    {
      "cell_type": "code",
      "source": [
        "a = [1, 2, 3, 4]\n",
        "for i in a:\n",
        "    print(i)"
      ],
      "metadata": {
        "id": "VkGU_qUbNVx4",
        "colab": {
          "base_uri": "https://localhost:8080/"
        },
        "outputId": "e6fb60b4-3e75-454f-ad28-9ae093f82514"
      },
      "execution_count": null,
      "outputs": [
        {
          "output_type": "stream",
          "name": "stdout",
          "text": [
            "1\n",
            "2\n",
            "3\n",
            "4\n"
          ]
        }
      ]
    },
    {
      "cell_type": "markdown",
      "source": [
        "**for** i ***in*** *range*(4): >>> 이 형식에서 range(4)는 [0, 1, 2, 3]의 list와 동일"
      ],
      "metadata": {
        "id": "N-FZA1uuP4dH"
      }
    },
    {
      "cell_type": "code",
      "source": [
        "a = [1, 2, 3, 4]\n",
        "for i in range(4):\n",
        "    print(a[i])"
      ],
      "metadata": {
        "id": "Us8Z-uIuOa8a",
        "colab": {
          "base_uri": "https://localhost:8080/"
        },
        "outputId": "43b5c626-b70f-4a07-c70e-0d065b1b3354"
      },
      "execution_count": null,
      "outputs": [
        {
          "output_type": "stream",
          "name": "stdout",
          "text": [
            "1\n",
            "2\n",
            "3\n",
            "4\n"
          ]
        }
      ]
    },
    {
      "cell_type": "markdown",
      "source": [
        "**for** i **in** *range(len(s))*: >>> 이 형식에서 range(len(a))는 a의 list 길이만큼의 인덱스 list를 만듬"
      ],
      "metadata": {
        "id": "sSRkpE1ARTOj"
      }
    },
    {
      "cell_type": "code",
      "source": [
        "a = [1, 2, 3, 4]\n",
        "for i in range(len(a)):\n",
        "    print(a[i])"
      ],
      "metadata": {
        "id": "YGdr3PzRNa9F",
        "colab": {
          "base_uri": "https://localhost:8080/"
        },
        "outputId": "4434a006-d80d-42bf-bb0f-4f279cb51242"
      },
      "execution_count": null,
      "outputs": [
        {
          "output_type": "stream",
          "name": "stdout",
          "text": [
            "1\n",
            "2\n",
            "3\n",
            "4\n"
          ]
        }
      ]
    },
    {
      "cell_type": "code",
      "source": [
        "a = ['red', 'green', 'blue', 'purple']\n",
        "for i in a:\n",
        "    print(i)"
      ],
      "metadata": {
        "id": "K8lXCIY2NkrZ",
        "colab": {
          "base_uri": "https://localhost:8080/"
        },
        "outputId": "b97aa192-6342-42ab-c3f1-2769f9b0fe84"
      },
      "execution_count": null,
      "outputs": [
        {
          "output_type": "stream",
          "name": "stdout",
          "text": [
            "red\n",
            "green\n",
            "blue\n",
            "purple\n"
          ]
        }
      ]
    },
    {
      "cell_type": "code",
      "source": [
        "a = ['red', 'green', 'blue', 'purple']\n",
        "for i in range(len(a)):\n",
        "    print(a[i])"
      ],
      "metadata": {
        "id": "uPnHjPEZNpGn",
        "colab": {
          "base_uri": "https://localhost:8080/"
        },
        "outputId": "b2eb01ef-27b1-477d-d49e-6216d1070eea"
      },
      "execution_count": null,
      "outputs": [
        {
          "output_type": "stream",
          "name": "stdout",
          "text": [
            "red\n",
            "green\n",
            "blue\n",
            "purple\n"
          ]
        }
      ]
    },
    {
      "cell_type": "markdown",
      "source": [
        "##if 조건문"
      ],
      "metadata": {
        "id": "Xe_FyvONShcT"
      }
    },
    {
      "cell_type": "code",
      "source": [
        "a = 0\n",
        "if a == 0:\n",
        "    print(a)\n",
        "else:\n",
        "    print(a+1)"
      ],
      "metadata": {
        "id": "dA34zJJzNtU-",
        "colab": {
          "base_uri": "https://localhost:8080/"
        },
        "outputId": "1e2e9162-9d32-47e1-d46a-b2b95c6509af"
      },
      "execution_count": null,
      "outputs": [
        {
          "output_type": "stream",
          "name": "stdout",
          "text": [
            "0\n"
          ]
        }
      ]
    },
    {
      "cell_type": "code",
      "source": [
        "a = 0\n",
        "if a != 0:  #!= not equal\n",
        "    print(a)\n",
        "else:\n",
        "    print(a+1)"
      ],
      "metadata": {
        "id": "_QL4n_Z0Nycu",
        "colab": {
          "base_uri": "https://localhost:8080/"
        },
        "outputId": "83c19a7c-89b3-41a5-d243-a7c7ca9507ed"
      },
      "execution_count": null,
      "outputs": [
        {
          "output_type": "stream",
          "name": "stdout",
          "text": [
            "1\n"
          ]
        }
      ]
    },
    {
      "cell_type": "markdown",
      "source": [
        "for i in range(1, 3) >>> range(1, 3) = [1, 2]  (range의 첫번째 거 포함; range의 두번째것 비포함)\n",
        "\n",
        "for i in range(3, 5) >>> range(3, 5) = [3, 4]"
      ],
      "metadata": {
        "id": "BTCWpE13S86F"
      }
    },
    {
      "cell_type": "code",
      "source": [
        "for i in range(1, 3):\n",
        "    for j in range(3, 5):\n",
        "        print(i*j)"
      ],
      "metadata": {
        "id": "rw8dYlNVN5S_",
        "colab": {
          "base_uri": "https://localhost:8080/"
        },
        "outputId": "c118b4c7-c017-4307-d375-c75b31f6c1d3"
      },
      "execution_count": null,
      "outputs": [
        {
          "output_type": "stream",
          "name": "stdout",
          "text": [
            "3\n",
            "4\n",
            "6\n",
            "8\n"
          ]
        }
      ]
    },
    {
      "cell_type": "code",
      "source": [
        "for i in range(1, 3):\n",
        "    for j in range(3, 5):\n",
        "        if j >=4:\n",
        "            print(i*j)"
      ],
      "metadata": {
        "id": "PFjZ9S3BN7oZ",
        "colab": {
          "base_uri": "https://localhost:8080/"
        },
        "outputId": "2a21d093-f2c4-4451-b653-2088f38ed8f4"
      },
      "execution_count": null,
      "outputs": [
        {
          "output_type": "stream",
          "name": "stdout",
          "text": [
            "4\n",
            "8\n"
          ]
        }
      ]
    },
    {
      "cell_type": "markdown",
      "source": [
        "##List comprehension"
      ],
      "metadata": {
        "id": "FkNaf71MUMFF"
      }
    },
    {
      "cell_type": "markdown",
      "source": [
        "(예) List 안쪽에 for문이 들어간 경우\n",
        "\n",
        "b = [i for i in a if i >=2] >> a에 있는 것을 하나하나씩 i로 반복해서 받고, if문을 실행"
      ],
      "metadata": {
        "id": "sYGqb7-tU6iN"
      }
    },
    {
      "cell_type": "code",
      "source": [
        "a = [1, 2, 3, 4]\n",
        "b = [i for i in a if i >=2]\n",
        "b"
      ],
      "metadata": {
        "id": "J6jFPlwKOCcj",
        "colab": {
          "base_uri": "https://localhost:8080/"
        },
        "outputId": "49bc76d6-3c61-418d-fbb4-23d0f3c6add1"
      },
      "execution_count": null,
      "outputs": [
        {
          "output_type": "execute_result",
          "data": {
            "text/plain": [
              "[2, 3, 4]"
            ]
          },
          "metadata": {},
          "execution_count": 26
        }
      ]
    },
    {
      "cell_type": "code",
      "source": [
        "a = ['red', 'green', 'blue', 'purple']\n",
        "b = [i for i in a if len(i) >=4]\n",
        "b"
      ],
      "metadata": {
        "id": "sTLoElg6OGev",
        "colab": {
          "base_uri": "https://localhost:8080/"
        },
        "outputId": "7d53e2d5-9c41-49f3-d7be-a7e38dc33986"
      },
      "execution_count": null,
      "outputs": [
        {
          "output_type": "execute_result",
          "data": {
            "text/plain": [
              "['green', 'blue', 'purple']"
            ]
          },
          "metadata": {},
          "execution_count": 27
        }
      ]
    },
    {
      "cell_type": "markdown",
      "source": [
        "##Dict comprehension\n",
        "\n",
        "dict(dictionary)\n"
      ],
      "metadata": {
        "id": "bPFsoFi3URDe"
      }
    },
    {
      "cell_type": "markdown",
      "source": [
        "(예) Dict안에 for문이 있는 경우\n",
        "\n",
        "range(4) = [0, 1, 2, 3] ;; { a[0]: b[0], a[1]: b[1], ....}\n",
        "\n",
        "range(stop): 0부터 stop-1 까지의 정수를 생성함\n",
        "\n",
        "range(start, stop): start부터 stop-1 까지의 정수를 생성함\n",
        "\n",
        "range(start, stop, step): start부터 stop-1 까지 step간격으로 정수를 생성함\n"
      ],
      "metadata": {
        "id": "m2NOEKAvVYSE"
      }
    },
    {
      "cell_type": "code",
      "source": [
        "a = ['red', 'green', 'blue', 'purple']\n",
        "b = [1, 2, 3, 4]\n",
        "c = {a[i]:b[i] for i in range(4)}\n",
        "c"
      ],
      "metadata": {
        "id": "eD3Y624JOIDV",
        "colab": {
          "base_uri": "https://localhost:8080/"
        },
        "outputId": "df6ddba1-49d9-4702-8d03-eab4d80b8bf9"
      },
      "execution_count": null,
      "outputs": [
        {
          "output_type": "execute_result",
          "data": {
            "text/plain": [
              "{'red': 1, 'green': 2, 'blue': 3, 'purple': 4}"
            ]
          },
          "metadata": {},
          "execution_count": 28
        }
      ]
    },
    {
      "cell_type": "markdown",
      "source": [
        "#How to \"Import packages\""
      ],
      "metadata": {
        "id": "RUgnp6cWP4t_"
      }
    },
    {
      "cell_type": "markdown",
      "source": [
        "Package 예시\n",
        "\n",
        "numpy; pandas; matplotlib; seaborn; sklearn; requests; urllib3; nltk; PIL; pytest; librosa"
      ],
      "metadata": {
        "id": "qIoU3x2aSgh8"
      }
    },
    {
      "cell_type": "code",
      "source": [
        "import numpy"
      ],
      "metadata": {
        "id": "-pW_jxvFR1Zx"
      },
      "execution_count": null,
      "outputs": []
    },
    {
      "cell_type": "code",
      "source": [
        "numpy.random.randn(5)"
      ],
      "metadata": {
        "id": "OA5pIHv0R4sR",
        "colab": {
          "base_uri": "https://localhost:8080/"
        },
        "outputId": "f8b39478-c5b8-4d1f-8d07-cf667d41fbf7"
      },
      "execution_count": null,
      "outputs": [
        {
          "output_type": "execute_result",
          "data": {
            "text/plain": [
              "array([ 1.39273253,  0.4150501 ,  1.06959333,  1.01802499, -0.37399724])"
            ]
          },
          "metadata": {},
          "execution_count": 30
        }
      ]
    },
    {
      "cell_type": "markdown",
      "source": [
        "##다양한 import packages 방법들"
      ],
      "metadata": {
        "id": "LtVAwN5qSPYT"
      }
    },
    {
      "cell_type": "code",
      "source": [
        "import numpy as np\n",
        "n = np.random.randn(100)"
      ],
      "metadata": {
        "id": "HXp80W0FQn7m"
      },
      "execution_count": null,
      "outputs": []
    },
    {
      "cell_type": "code",
      "source": [
        "import matplotlib\n",
        "matplotlib.pyplot.hist(n) #hist=히스토그램"
      ],
      "metadata": {
        "id": "XYuNw2DqQxoN",
        "colab": {
          "base_uri": "https://localhost:8080/",
          "height": 522
        },
        "outputId": "e83fa598-5614-45c1-a601-2d22864707a8"
      },
      "execution_count": null,
      "outputs": [
        {
          "output_type": "execute_result",
          "data": {
            "text/plain": [
              "(array([ 1.,  3., 10., 17., 22., 20.,  8.,  6.,  9.,  4.]),\n",
              " array([-2.4167267 , -1.97496883, -1.53321096, -1.09145309, -0.64969523,\n",
              "        -0.20793736,  0.23382051,  0.67557837,  1.11733624,  1.55909411,\n",
              "         2.00085198]),\n",
              " <BarContainer object of 10 artists>)"
            ]
          },
          "metadata": {},
          "execution_count": 32
        },
        {
          "output_type": "display_data",
          "data": {
            "text/plain": [
              "<Figure size 640x480 with 1 Axes>"
            ],
            "image/png": "[encoded data removed]"
          },
          "metadata": {}
        }
      ]
    },
    {
      "cell_type": "code",
      "source": [
        "import matplotlib.pyplot\n",
        "matplotlib.pyplot.hist(n)"
      ],
      "metadata": {
        "id": "r_n83fu-RHWf",
        "colab": {
          "base_uri": "https://localhost:8080/",
          "height": 522
        },
        "outputId": "98740c65-9ad9-4384-b633-26825cca9b1c"
      },
      "execution_count": null,
      "outputs": [
        {
          "output_type": "execute_result",
          "data": {
            "text/plain": [
              "(array([ 1.,  3., 10., 17., 22., 20.,  8.,  6.,  9.,  4.]),\n",
              " array([-2.4167267 , -1.97496883, -1.53321096, -1.09145309, -0.64969523,\n",
              "        -0.20793736,  0.23382051,  0.67557837,  1.11733624,  1.55909411,\n",
              "         2.00085198]),\n",
              " <BarContainer object of 10 artists>)"
            ]
          },
          "metadata": {},
          "execution_count": 33
        },
        {
          "output_type": "display_data",
          "data": {
            "text/plain": [
              "<Figure size 640x480 with 1 Axes>"
            ],
            "image/png": "[encoded data removed]"
          },
          "metadata": {}
        }
      ]
    },
    {
      "cell_type": "code",
      "source": [
        "import matplotlib.pyplot as plt\n",
        "plt.hist(n)"
      ],
      "metadata": {
        "id": "pc1NJVSXRKLG",
        "colab": {
          "base_uri": "https://localhost:8080/",
          "height": 522
        },
        "outputId": "0bf0fa10-15dd-462d-a10b-d6258c8ca5e1"
      },
      "execution_count": null,
      "outputs": [
        {
          "output_type": "execute_result",
          "data": {
            "text/plain": [
              "(array([ 1.,  3., 10., 17., 22., 20.,  8.,  6.,  9.,  4.]),\n",
              " array([-2.4167267 , -1.97496883, -1.53321096, -1.09145309, -0.64969523,\n",
              "        -0.20793736,  0.23382051,  0.67557837,  1.11733624,  1.55909411,\n",
              "         2.00085198]),\n",
              " <BarContainer object of 10 artists>)"
            ]
          },
          "metadata": {},
          "execution_count": 34
        },
        {
          "output_type": "display_data",
          "data": {
            "text/plain": [
              "<Figure size 640x480 with 1 Axes>"
            ],
            "image/png": "[encoded data removed]"
          },
          "metadata": {}
        }
      ]
    },
    {
      "cell_type": "markdown",
      "source": [
        "**from import**를 쓰면 **import as**처럼 축약해서 부를 수 있는 효과"
      ],
      "metadata": {
        "id": "dJUJ9mYLRbUS"
      }
    },
    {
      "cell_type": "code",
      "source": [
        "from matplotlib import pyplot\n",
        "pyplot.hist(n)"
      ],
      "metadata": {
        "id": "6vj129RVRdTc",
        "colab": {
          "base_uri": "https://localhost:8080/",
          "height": 522
        },
        "outputId": "1542b9ec-8b03-466b-ce52-2ceec304c736"
      },
      "execution_count": null,
      "outputs": [
        {
          "output_type": "execute_result",
          "data": {
            "text/plain": [
              "(array([ 1.,  3., 10., 17., 22., 20.,  8.,  6.,  9.,  4.]),\n",
              " array([-2.4167267 , -1.97496883, -1.53321096, -1.09145309, -0.64969523,\n",
              "        -0.20793736,  0.23382051,  0.67557837,  1.11733624,  1.55909411,\n",
              "         2.00085198]),\n",
              " <BarContainer object of 10 artists>)"
            ]
          },
          "metadata": {},
          "execution_count": 35
        },
        {
          "output_type": "display_data",
          "data": {
            "text/plain": [
              "<Figure size 640x480 with 1 Axes>"
            ],
            "image/png": "[encoded data removed]"
          },
          "metadata": {}
        }
      ]
    },
    {
      "cell_type": "code",
      "source": [
        "from matplotlib.pyplot import hist\n",
        "hist(n)"
      ],
      "metadata": {
        "id": "p7rC0-RMRhgf",
        "colab": {
          "base_uri": "https://localhost:8080/",
          "height": 522
        },
        "outputId": "c581b950-a65d-47e0-d9b0-2fc7774acdb3"
      },
      "execution_count": null,
      "outputs": [
        {
          "output_type": "execute_result",
          "data": {
            "text/plain": [
              "(array([ 1.,  3., 10., 17., 22., 20.,  8.,  6.,  9.,  4.]),\n",
              " array([-2.4167267 , -1.97496883, -1.53321096, -1.09145309, -0.64969523,\n",
              "        -0.20793736,  0.23382051,  0.67557837,  1.11733624,  1.55909411,\n",
              "         2.00085198]),\n",
              " <BarContainer object of 10 artists>)"
            ]
          },
          "metadata": {},
          "execution_count": 36
        },
        {
          "output_type": "display_data",
          "data": {
            "text/plain": [
              "<Figure size 640x480 with 1 Axes>"
            ],
            "image/png": "[encoded data removed]"
          },
          "metadata": {}
        }
      ]
    }
  ]
}